{
 "cells": [
  {
   "cell_type": "markdown",
   "id": "a8f2abac",
   "metadata": {},
   "source": [
    "# Data Crunch\n",
    "\n",
    "Items worked on in chunks"
   ]
  },
  {
   "cell_type": "code",
   "execution_count": 129,
   "id": "d9b4c8cc",
   "metadata": {},
   "outputs": [],
   "source": [
    "import datetime\n",
    "\n",
    "import matplotlib.pyplot as plt\n",
    "import numpy as np\n",
    "import pandas as pd\n",
    "import yaml"
   ]
  },
  {
   "cell_type": "code",
   "execution_count": 130,
   "id": "579d2f54",
   "metadata": {},
   "outputs": [],
   "source": [
    "def config():\n",
    "    with open('settings/config.yml') as config_fp:\n",
    "        config = yaml.safe_load(config_fp)\n",
    "    return config"
   ]
  },
  {
   "cell_type": "markdown",
   "id": "d73798f4",
   "metadata": {},
   "source": [
    "Chose item"
   ]
  },
  {
   "cell_type": "code",
   "execution_count": 131,
   "id": "e6bbc4d9",
   "metadata": {},
   "outputs": [
    {
     "name": "stdout",
     "output_type": "stream",
     "text": [
      "0: precalculus, goal: Complete the precalculus textbook by my next birthday\n",
      "Working from Precalculus, Mathematics for Calculus by Stewart, Redlin, Watson\n",
      "\n"
     ]
    },
    {
     "data": {
      "text/html": [
       "<div>\n",
       "<style scoped>\n",
       "    .dataframe tbody tr th:only-of-type {\n",
       "        vertical-align: middle;\n",
       "    }\n",
       "\n",
       "    .dataframe tbody tr th {\n",
       "        vertical-align: top;\n",
       "    }\n",
       "\n",
       "    .dataframe thead th {\n",
       "        text-align: right;\n",
       "    }\n",
       "</style>\n",
       "<table border=\"1\" class=\"dataframe\">\n",
       "  <thead>\n",
       "    <tr style=\"text-align: right;\">\n",
       "      <th></th>\n",
       "      <th>achieved</th>\n",
       "      <th>target</th>\n",
       "    </tr>\n",
       "    <tr>\n",
       "      <th>date</th>\n",
       "      <th></th>\n",
       "      <th></th>\n",
       "    </tr>\n",
       "  </thead>\n",
       "  <tbody>\n",
       "    <tr>\n",
       "      <th>2021-12-22</th>\n",
       "      <td>44</td>\n",
       "      <td>49</td>\n",
       "    </tr>\n",
       "    <tr>\n",
       "      <th>2021-12-23</th>\n",
       "      <td>44</td>\n",
       "      <td>54</td>\n",
       "    </tr>\n",
       "    <tr>\n",
       "      <th>2021-12-24</th>\n",
       "      <td>44</td>\n",
       "      <td>59</td>\n",
       "    </tr>\n",
       "    <tr>\n",
       "      <th>2021-12-25</th>\n",
       "      <td>44</td>\n",
       "      <td>64</td>\n",
       "    </tr>\n",
       "    <tr>\n",
       "      <th>2021-12-26</th>\n",
       "      <td>44</td>\n",
       "      <td>69</td>\n",
       "    </tr>\n",
       "  </tbody>\n",
       "</table>\n",
       "</div>"
      ],
      "text/plain": [
       "            achieved  target\n",
       "date                        \n",
       "2021-12-22        44      49\n",
       "2021-12-23        44      54\n",
       "2021-12-24        44      59\n",
       "2021-12-25        44      64\n",
       "2021-12-26        44      69"
      ]
     },
     "execution_count": 131,
     "metadata": {},
     "output_type": "execute_result"
    }
   ],
   "source": [
    "conf = config()\n",
    "\n",
    "def date_parse(indate):\n",
    "    return datetime.datetime.strptime(indate, \"%d/%m/%Y\")\n",
    "\n",
    "def datafetch():\n",
    "    try:\n",
    "        items = {str(k):i for k, i in enumerate(list(conf['spaced']))}\n",
    "        for key, item in items.items():\n",
    "            print(f\"{key}: {item}\", end=\", \")\n",
    "    except TypeError:\n",
    "        print(\"Error: You have no data in the config file\")\n",
    "        return\n",
    "    if len(items.keys()) == 1:\n",
    "        cur = '0'\n",
    "    else:\n",
    "        print()\n",
    "        while True:\n",
    "            cur = input('')\n",
    "            if cur in items.keys():\n",
    "                break\n",
    "            print(f\"Please try again, {cur} isn't a valid option\")\n",
    "    data = conf['spaced'][items[cur]]\n",
    "    print(f\"goal: {data['goal']}\")\n",
    "    if data['book']:\n",
    "        print(f\"Working from {data['book']} by {', '.join(data['authors'])}\")\n",
    "    df = pd.read_csv(f\"data/{data['data']}\", sep='|', date_parser=date_parse, parse_dates=['date'], index_col=['date'])\n",
    "    print()\n",
    "    return items[cur], df\n",
    "    \n",
    "    \n",
    "item, df = datafetch()\n",
    "df.head()"
   ]
  },
  {
   "cell_type": "markdown",
   "id": "7e1ed28e",
   "metadata": {},
   "source": [
    "## See Progress\n",
    "\n",
    "Plot where I'm at"
   ]
  },
  {
   "cell_type": "code",
   "execution_count": 141,
   "id": "ea62dec2",
   "metadata": {},
   "outputs": [
    {
     "data": {
      "image/png": "[encoded data removed]",
      "text/plain": [
       "<Figure size 1080x648 with 1 Axes>"
      ]
     },
     "metadata": {
      "needs_background": "light"
     },
     "output_type": "display_data"
    }
   ],
   "source": [
    "# Plot where I'm at\n",
    "df.resample(\"D\").sum()\n",
    "%matplotlib inline\n",
    "fig, ax = plt.subplots(figsize=(15,9))\n",
    "_ = ax.set_title(f\"Progress in {item}\")\n",
    "_ = ax.plot(df['achieved'], marker='o', markersize=1, color='b')\n",
    "_ = ax.plot(df['target'], marker='o', markersize=1, color='g')\n",
    "_ = ax.set_xlabel('Date')\n",
    "_ = ax.set_ylabel('Pages')\n",
    "_ = ax.axvline(datetime.datetime.now(), color='r')\n",
    "plt.show()"
   ]
  },
  {
   "cell_type": "markdown",
   "id": "e8774c87",
   "metadata": {},
   "source": [
    "## Add today's score"
   ]
  },
  {
   "cell_type": "code",
   "execution_count": null,
   "id": "0679aaf9",
   "metadata": {},
   "outputs": [],
   "source": [
    "today_page = input('')\n",
    "# TODO: add this into the data.  Make sur"
   ]
  }
 ],
 "metadata": {
  "kernelspec": {
   "display_name": "Python 3 (ipykernel)",
   "language": "python",
   "name": "python3"
  },
  "language_info": {
   "codemirror_mode": {
    "name": "ipython",
    "version": 3
   },
   "file_extension": ".py",
   "mimetype": "text/x-python",
   "name": "python",
   "nbconvert_exporter": "python",
   "pygments_lexer": "ipython3",
   "version": "3.10.1"
  }
 },
 "nbformat": 4,
 "nbformat_minor": 5
}
