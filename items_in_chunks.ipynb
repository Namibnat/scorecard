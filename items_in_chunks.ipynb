{
 "cells": [
  {
   "cell_type": "markdown",
   "id": "d7d98139",
   "metadata": {},
   "source": [
    "# Data Crunch\n",
    "\n",
    "Items worked on in chunks"
   ]
  },
  {
   "cell_type": "code",
   "execution_count": 14,
   "id": "59f72e23",
   "metadata": {},
   "outputs": [],
   "source": [
    "import pandas as pd\n",
    "import yaml"
   ]
  },
  {
   "cell_type": "code",
   "execution_count": 15,
   "id": "6dea76e3",
   "metadata": {},
   "outputs": [],
   "source": [
    "def config():\n",
    "    with open('settings/config.yml') as config_fp:\n",
    "        config = yaml.safe_load(config_fp)\n",
    "    return config"
   ]
  },
  {
   "cell_type": "markdown",
   "id": "324ca66b",
   "metadata": {},
   "source": [
    "Chose item"
   ]
  },
  {
   "cell_type": "code",
   "execution_count": 21,
   "id": "1b20413a",
   "metadata": {},
   "outputs": [
    {
     "name": "stdout",
     "output_type": "stream",
     "text": [
      "dx, gx, tt, tx, \n",
      "gx\n",
      "goal: gx\n",
      "Working from gx by bob\n",
      "    line        date  achieved  target\n",
      "0      1  01/01/2022         0       3\n",
      "1      2  02/01/2022         0      10\n",
      "2      3  03/01/2022         0      17\n",
      "3      4  04/01/2022         0      24\n",
      "4      5  05/01/2022         0      31\n",
      "..   ...         ...       ...     ...\n",
      "57    58  27/02/2022         0     422\n",
      "58    59  28/02/2022         0     430\n",
      "59    60  01/03/2022         0     437\n",
      "60    61  02/03/2022         0     444\n",
      "61    62  03/03/2022         0     452\n",
      "\n",
      "[62 rows x 4 columns]\n"
     ]
    }
   ],
   "source": [
    "conf = config()\n",
    "for item in conf['spaced']:\n",
    "    print(item, end=\", \")\n",
    "print()\n",
    "cur = ''\n",
    "while cur not in conf['spaced']:\n",
    "    cur = input('')\n",
    "    if cur not in conf['spaced']: print(f\"Please try again, {cur} isn't a valid option\")\n",
    "data = conf['spaced'][cur]\n",
    "print(f\"goal: {data['goal']}\")\n",
    "if data['book']:\n",
    "    print(f\"Working from {data['book']} by {', '.join(data['authors'])}\")\n",
    "df = pd.read_csv(f\"data/{data['data']}\", sep='|')\n",
    "print(df)"
   ]
  },
  {
   "cell_type": "code",
   "execution_count": null,
   "id": "12014ec6",
   "metadata": {},
   "outputs": [],
   "source": []
  }
 ],
 "metadata": {
  "kernelspec": {
   "display_name": "Python 3 (ipykernel)",
   "language": "python",
   "name": "python3"
  },
  "language_info": {
   "codemirror_mode": {
    "name": "ipython",
    "version": 3
   },
   "file_extension": ".py",
   "mimetype": "text/x-python",
   "name": "python",
   "nbconvert_exporter": "python",
   "pygments_lexer": "ipython3",
   "version": "3.10.1"
  }
 },
 "nbformat": 4,
 "nbformat_minor": 5
}
