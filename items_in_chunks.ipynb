{
 "cells": [
  {
   "cell_type": "markdown",
   "id": "780da69b",
   "metadata": {},
   "source": [
    "# Data Crunch\n",
    "\n",
    "Items worked on in chunks"
   ]
  },
  {
   "cell_type": "code",
   "execution_count": 34,
   "id": "e3b64cba",
   "metadata": {},
   "outputs": [],
   "source": [
    "import matplotlib.pyplot as plt\n",
    "import pandas as pd\n",
    "import yaml"
   ]
  },
  {
   "cell_type": "code",
   "execution_count": 35,
   "id": "b300553a",
   "metadata": {},
   "outputs": [],
   "source": [
    "def config():\n",
    "    with open('settings/config.yml') as config_fp:\n",
    "        config = yaml.safe_load(config_fp)\n",
    "    return config"
   ]
  },
  {
   "cell_type": "markdown",
   "id": "0df8d085",
   "metadata": {},
   "source": [
    "Chose item"
   ]
  },
  {
   "cell_type": "code",
   "execution_count": 36,
   "id": "feaf0566",
   "metadata": {},
   "outputs": [
    {
     "name": "stdout",
     "output_type": "stream",
     "text": [
      "Error: You have no data in the config file\n"
     ]
    }
   ],
   "source": [
    "conf = config()\n",
    "\n",
    "def datafetch():\n",
    "    try:\n",
    "        for item in conf['spaced']:\n",
    "            print(item, end=\", \")\n",
    "    except TypeError:\n",
    "        print(\"Error: You have no data in the config file\")\n",
    "        return\n",
    "    print()\n",
    "    cur = ''\n",
    "    while cur not in conf['spaced']:\n",
    "        cur = input('')\n",
    "        if cur not in conf['spaced']: print(f\"Please try again, {cur} isn't a valid option\")\n",
    "    data = conf['spaced'][cur]\n",
    "    print(f\"goal: {data['goal']}\")\n",
    "    if data['book']:\n",
    "        print(f\"Working from {data['book']} by {', '.join(data['authors'])}\")\n",
    "    df = pd.read_csv(f\"data/{data['data']}\", sep='|')\n",
    "    \n",
    "datafetch()"
   ]
  },
  {
   "cell_type": "code",
   "execution_count": null,
   "id": "550166a2",
   "metadata": {},
   "outputs": [],
   "source": [
    "plt.plot(df)\n",
    "plt.show()"
   ]
  }
 ],
 "metadata": {
  "kernelspec": {
   "display_name": "Python 3 (ipykernel)",
   "language": "python",
   "name": "python3"
  },
  "language_info": {
   "codemirror_mode": {
    "name": "ipython",
    "version": 3
   },
   "file_extension": ".py",
   "mimetype": "text/x-python",
   "name": "python",
   "nbconvert_exporter": "python",
   "pygments_lexer": "ipython3",
   "version": "3.10.1"
  }
 },
 "nbformat": 4,
 "nbformat_minor": 5
}
