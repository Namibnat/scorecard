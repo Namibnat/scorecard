{
 "cells": [
  {
   "cell_type": "markdown",
   "id": "b010fa04",
   "metadata": {},
   "source": [
    "# Data Crunch\n",
    "\n",
    "Items worked on in chunks"
   ]
  },
  {
   "cell_type": "code",
   "execution_count": 78,
   "id": "affadfc0",
   "metadata": {},
   "outputs": [],
   "source": [
    "import matplotlib.pyplot as plt\n",
    "import numpy as np\n",
    "import pandas as pd\n",
    "import yaml"
   ]
  },
  {
   "cell_type": "code",
   "execution_count": 79,
   "id": "6b6bc551",
   "metadata": {},
   "outputs": [],
   "source": [
    "def config():\n",
    "    with open('settings/config.yml') as config_fp:\n",
    "        config = yaml.safe_load(config_fp)\n",
    "    return config"
   ]
  },
  {
   "cell_type": "markdown",
   "id": "33f0de8a",
   "metadata": {},
   "source": [
    "Chose item"
   ]
  },
  {
   "cell_type": "code",
   "execution_count": 87,
   "id": "14c1508a",
   "metadata": {},
   "outputs": [
    {
     "name": "stdout",
     "output_type": "stream",
     "text": [
      "0: precalculus, goal: Complete the precalculus textbook by my next birthday\n",
      "Working from Precalculus, Mathematics for Calculus by Stewart, Redlin, Watson\n",
      "\n"
     ]
    },
    {
     "data": {
      "text/html": [
       "<div>\n",
       "<style scoped>\n",
       "    .dataframe tbody tr th:only-of-type {\n",
       "        vertical-align: middle;\n",
       "    }\n",
       "\n",
       "    .dataframe tbody tr th {\n",
       "        vertical-align: top;\n",
       "    }\n",
       "\n",
       "    .dataframe thead th {\n",
       "        text-align: right;\n",
       "    }\n",
       "</style>\n",
       "<table border=\"1\" class=\"dataframe\">\n",
       "  <thead>\n",
       "    <tr style=\"text-align: right;\">\n",
       "      <th></th>\n",
       "      <th>date</th>\n",
       "      <th>achieved</th>\n",
       "      <th>target</th>\n",
       "    </tr>\n",
       "    <tr>\n",
       "      <th>line</th>\n",
       "      <th></th>\n",
       "      <th></th>\n",
       "      <th></th>\n",
       "    </tr>\n",
       "  </thead>\n",
       "  <tbody>\n",
       "    <tr>\n",
       "      <th>1</th>\n",
       "      <td>2021-12-22</td>\n",
       "      <td>44</td>\n",
       "      <td>49</td>\n",
       "    </tr>\n",
       "    <tr>\n",
       "      <th>2</th>\n",
       "      <td>2021-12-23</td>\n",
       "      <td>44</td>\n",
       "      <td>54</td>\n",
       "    </tr>\n",
       "    <tr>\n",
       "      <th>3</th>\n",
       "      <td>2021-12-24</td>\n",
       "      <td>44</td>\n",
       "      <td>59</td>\n",
       "    </tr>\n",
       "    <tr>\n",
       "      <th>4</th>\n",
       "      <td>2021-12-25</td>\n",
       "      <td>44</td>\n",
       "      <td>64</td>\n",
       "    </tr>\n",
       "    <tr>\n",
       "      <th>5</th>\n",
       "      <td>2021-12-26</td>\n",
       "      <td>44</td>\n",
       "      <td>69</td>\n",
       "    </tr>\n",
       "  </tbody>\n",
       "</table>\n",
       "</div>"
      ],
      "text/plain": [
       "           date  achieved  target\n",
       "line                             \n",
       "1    2021-12-22        44      49\n",
       "2    2021-12-23        44      54\n",
       "3    2021-12-24        44      59\n",
       "4    2021-12-25        44      64\n",
       "5    2021-12-26        44      69"
      ]
     },
     "execution_count": 87,
     "metadata": {},
     "output_type": "execute_result"
    }
   ],
   "source": [
    "conf = config()\n",
    "\n",
    "def datafetch():\n",
    "    try:\n",
    "        items = {str(k):i for k, i in enumerate(list(conf['spaced']))}\n",
    "        for key, item in items.items():\n",
    "            print(f\"{key}: {item}\", end=\", \")\n",
    "    except TypeError:\n",
    "        print(\"Error: You have no data in the config file\")\n",
    "        return\n",
    "    if len(items.keys()) == 1:\n",
    "        cur = '0'\n",
    "    else:\n",
    "        print()\n",
    "        while True:\n",
    "            cur = input('')\n",
    "            if cur in items.keys():\n",
    "                break\n",
    "            print(f\"Please try again, {cur} isn't a valid option\")\n",
    "    data = conf['spaced'][items[cur]]\n",
    "    print(f\"goal: {data['goal']}\")\n",
    "    if data['book']:\n",
    "        print(f\"Working from {data['book']} by {', '.join(data['authors'])}\")\n",
    "    df = pd.read_csv(f\"data/{data['data']}\", sep='|', index_col='line')\n",
    "    df['date'] = pd.to_datetime(df['date'])\n",
    "    print()\n",
    "    return df\n",
    "    \n",
    "    \n",
    "df = datafetch()\n",
    "df.head()"
   ]
  },
  {
   "cell_type": "code",
   "execution_count": 86,
   "id": "b3605485",
   "metadata": {
    "collapsed": true
   },
   "outputs": [
    {
     "data": {
      "text/html": [
       "<div>\n",
       "<style scoped>\n",
       "    .dataframe tbody tr th:only-of-type {\n",
       "        vertical-align: middle;\n",
       "    }\n",
       "\n",
       "    .dataframe tbody tr th {\n",
       "        vertical-align: top;\n",
       "    }\n",
       "\n",
       "    .dataframe thead th {\n",
       "        text-align: right;\n",
       "    }\n",
       "</style>\n",
       "<table border=\"1\" class=\"dataframe\">\n",
       "  <thead>\n",
       "    <tr style=\"text-align: right;\">\n",
       "      <th></th>\n",
       "      <th>date</th>\n",
       "      <th>achieved</th>\n",
       "      <th>target</th>\n",
       "    </tr>\n",
       "    <tr>\n",
       "      <th>line</th>\n",
       "      <th></th>\n",
       "      <th></th>\n",
       "      <th></th>\n",
       "    </tr>\n",
       "  </thead>\n",
       "  <tbody>\n",
       "    <tr>\n",
       "      <th>192</th>\n",
       "      <td>01/07/2022</td>\n",
       "      <td>44</td>\n",
       "      <td>932</td>\n",
       "    </tr>\n",
       "    <tr>\n",
       "      <th>193</th>\n",
       "      <td>02/07/2022</td>\n",
       "      <td>44</td>\n",
       "      <td>937</td>\n",
       "    </tr>\n",
       "    <tr>\n",
       "      <th>194</th>\n",
       "      <td>03/07/2022</td>\n",
       "      <td>44</td>\n",
       "      <td>942</td>\n",
       "    </tr>\n",
       "    <tr>\n",
       "      <th>195</th>\n",
       "      <td>04/07/2022</td>\n",
       "      <td>44</td>\n",
       "      <td>946</td>\n",
       "    </tr>\n",
       "    <tr>\n",
       "      <th>196</th>\n",
       "      <td>05/07/2022</td>\n",
       "      <td>44</td>\n",
       "      <td>946</td>\n",
       "    </tr>\n",
       "  </tbody>\n",
       "</table>\n",
       "</div>"
      ],
      "text/plain": [
       "            date  achieved  target\n",
       "line                              \n",
       "192   01/07/2022        44     932\n",
       "193   02/07/2022        44     937\n",
       "194   03/07/2022        44     942\n",
       "195   04/07/2022        44     946\n",
       "196   05/07/2022        44     946"
      ]
     },
     "execution_count": 86,
     "metadata": {},
     "output_type": "execute_result"
    }
   ],
   "source": [
    "df.tail()"
   ]
  },
  {
   "cell_type": "code",
   "execution_count": 58,
   "id": "49dc41fd",
   "metadata": {},
   "outputs": [
    {
     "data": {
      "image/png": "[encoded data removed]",
      "text/plain": [
       "<Figure size 432x288 with 1 Axes>"
      ]
     },
     "metadata": {
      "needs_background": "light"
     },
     "output_type": "display_data"
    }
   ],
   "source": [
    "# Plot where I'm at\n",
    "%matplotlib inline\n",
    "fig, ax = plt.subplots()\n",
    "_ = ax.plot(df.achieved)"
   ]
  },
  {
   "cell_type": "code",
   "execution_count": null,
   "id": "10d3dcc2",
   "metadata": {},
   "outputs": [],
   "source": []
  }
 ],
 "metadata": {
  "kernelspec": {
   "display_name": "Python 3 (ipykernel)",
   "language": "python",
   "name": "python3"
  },
  "language_info": {
   "codemirror_mode": {
    "name": "ipython",
    "version": 3
   },
   "file_extension": ".py",
   "mimetype": "text/x-python",
   "name": "python",
   "nbconvert_exporter": "python",
   "pygments_lexer": "ipython3",
   "version": "3.10.1"
  }
 },
 "nbformat": 4,
 "nbformat_minor": 5
}
